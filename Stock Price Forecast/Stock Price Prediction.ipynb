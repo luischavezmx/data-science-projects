{
 "cells": [
  {
   "cell_type": "code",
   "execution_count": 99,
   "id": "79f0b1fd",
   "metadata": {},
   "outputs": [],
   "source": [
    "#Libraries to dynamically get datasets\n",
    "from yahoofinancials import YahooFinancials\n",
    "import yfinance as yf\n",
    "from pytrends.request import TrendReq\n",
    "\n",
    "#Data manipulation and math libraries\n",
    "import pandas as pd\n",
    "import numpy as np\n",
    "import talib\n",
    "from datetime import date, timedelta\n",
    "import datetime\n",
    "\n",
    "#Plotting library\n",
    "import matplotlib.pyplot as plt\n",
    "\n",
    "#Machine Learning libraries\n",
    "from sklearn.metrics import r2_score\n",
    "from sklearn.ensemble import RandomForestRegressor, GradientBoostingRegressor\n",
    "from sklearn.neighbors import KNeighborsRegressor\n",
    "from sklearn.preprocessing import StandardScaler\n",
    "\n",
    "import warnings"
   ]
  },
  {
   "cell_type": "code",
   "execution_count": 100,
   "id": "7717ff6c",
   "metadata": {},
   "outputs": [],
   "source": [
    "#Setup stock initial variables\n",
    "stock_ticker = \"AMD\"\n",
    "features = ['Close','Volume']"
   ]
  },
  {
   "cell_type": "code",
   "execution_count": 101,
   "id": "9428f324",
   "metadata": {},
   "outputs": [
    {
     "data": {
      "text/html": [
       "<div>\n",
       "<style scoped>\n",
       "    .dataframe tbody tr th:only-of-type {\n",
       "        vertical-align: middle;\n",
       "    }\n",
       "\n",
       "    .dataframe tbody tr th {\n",
       "        vertical-align: top;\n",
       "    }\n",
       "\n",
       "    .dataframe thead th {\n",
       "        text-align: right;\n",
       "    }\n",
       "</style>\n",
       "<table border=\"1\" class=\"dataframe\">\n",
       "  <thead>\n",
       "    <tr style=\"text-align: right;\">\n",
       "      <th></th>\n",
       "      <th>close_stock</th>\n",
       "      <th>volume_stock</th>\n",
       "      <th>close_sp500</th>\n",
       "      <th>volume_sp500</th>\n",
       "      <th>m2_supply</th>\n",
       "      <th>fed_rate</th>\n",
       "      <th>google_trend</th>\n",
       "    </tr>\n",
       "    <tr>\n",
       "      <th>Date</th>\n",
       "      <th></th>\n",
       "      <th></th>\n",
       "      <th></th>\n",
       "      <th></th>\n",
       "      <th></th>\n",
       "      <th></th>\n",
       "      <th></th>\n",
       "    </tr>\n",
       "  </thead>\n",
       "  <tbody>\n",
       "    <tr>\n",
       "      <th>2021-11-22</th>\n",
       "      <td>152.520004</td>\n",
       "      <td>58674100</td>\n",
       "      <td>4682.939941</td>\n",
       "      <td>3206280000</td>\n",
       "      <td>20982.9</td>\n",
       "      <td>0.08</td>\n",
       "      <td>53.0</td>\n",
       "    </tr>\n",
       "    <tr>\n",
       "      <th>2021-11-23</th>\n",
       "      <td>149.919998</td>\n",
       "      <td>62852700</td>\n",
       "      <td>4690.700195</td>\n",
       "      <td>3428780000</td>\n",
       "      <td>20982.9</td>\n",
       "      <td>0.08</td>\n",
       "      <td>53.0</td>\n",
       "    </tr>\n",
       "    <tr>\n",
       "      <th>2021-11-24</th>\n",
       "      <td>157.800003</td>\n",
       "      <td>60677100</td>\n",
       "      <td>4701.459961</td>\n",
       "      <td>2464040000</td>\n",
       "      <td>20982.9</td>\n",
       "      <td>0.08</td>\n",
       "      <td>53.0</td>\n",
       "    </tr>\n",
       "    <tr>\n",
       "      <th>2021-11-26</th>\n",
       "      <td>154.809998</td>\n",
       "      <td>36245100</td>\n",
       "      <td>4594.620117</td>\n",
       "      <td>2676740000</td>\n",
       "      <td>20982.9</td>\n",
       "      <td>0.08</td>\n",
       "      <td>53.0</td>\n",
       "    </tr>\n",
       "    <tr>\n",
       "      <th>2021-11-29</th>\n",
       "      <td>161.910004</td>\n",
       "      <td>57139174</td>\n",
       "      <td>4655.270020</td>\n",
       "      <td>2497291000</td>\n",
       "      <td>20982.9</td>\n",
       "      <td>0.08</td>\n",
       "      <td>53.0</td>\n",
       "    </tr>\n",
       "  </tbody>\n",
       "</table>\n",
       "</div>"
      ],
      "text/plain": [
       "            close_stock  volume_stock  close_sp500  volume_sp500  m2_supply  \\\n",
       "Date                                                                          \n",
       "2021-11-22   152.520004      58674100  4682.939941    3206280000    20982.9   \n",
       "2021-11-23   149.919998      62852700  4690.700195    3428780000    20982.9   \n",
       "2021-11-24   157.800003      60677100  4701.459961    2464040000    20982.9   \n",
       "2021-11-26   154.809998      36245100  4594.620117    2676740000    20982.9   \n",
       "2021-11-29   161.910004      57139174  4655.270020    2497291000    20982.9   \n",
       "\n",
       "            fed_rate  google_trend  \n",
       "Date                                \n",
       "2021-11-22      0.08          53.0  \n",
       "2021-11-23      0.08          53.0  \n",
       "2021-11-24      0.08          53.0  \n",
       "2021-11-26      0.08          53.0  \n",
       "2021-11-29      0.08          53.0  "
      ]
     },
     "execution_count": 101,
     "metadata": {},
     "output_type": "execute_result"
    }
   ],
   "source": [
    "#Get stock data\n",
    "ticker = yf.Ticker(stock_ticker)\n",
    "stock = ticker.history(period=\"max\")[features]\n",
    "stock.columns = ['close_stock','volume_stock']\n",
    "\n",
    "#Get SP500 data and merge with stock data\n",
    "ticker = yf.Ticker(\"^GSPC\")\n",
    "sp500 = ticker.history(period=\"max\")[features].reindex(stock.index)\n",
    "sp500.columns = ['close_sp500','volume_sp500']\n",
    "df = pd.concat([stock,sp500],axis=1)\n",
    "\n",
    "#Get M2 data and merge with stock data\n",
    "m2 = pd.read_csv('M2SL.csv',parse_dates=['DATE'],index_col='DATE')\n",
    "m2 = m2.reindex(df.index).ffill()\n",
    "m2.columns = ['m2_supply']\n",
    "df = pd.concat([df,m2],axis=1)\n",
    "\n",
    "#Get rates data and merge with stock data\n",
    "rates = pd.read_csv('FEDFUNDS.csv',parse_dates=['DATE'],index_col='DATE')\n",
    "rates = rates.reindex(df.index).ffill()\n",
    "rates.columns = ['fed_rate']\n",
    "df = pd.concat([df,rates],axis=1)\n",
    "\n",
    "#Get google trends and merge with stock data\n",
    "pytrends = TrendReq(hl='en-US', tz=360)\n",
    "kw_list = [stock_ticker]\n",
    "pytrends.build_payload(kw_list, cat=0,timeframe='all')\n",
    "trends = pytrends.interest_over_time().iloc[:,0]\n",
    "trends.name = 'google_trend'\n",
    "trends = trends.reindex(pd.date_range(start=trends.index[0],end=date.today())).interpolate()\n",
    "trends = trends.reindex(df.index)\n",
    "df = pd.concat([df,trends],axis=1)\n",
    "\n",
    "#Inspect last 5 rows of raw data\n",
    "df.tail()"
   ]
  },
  {
   "cell_type": "code",
   "execution_count": 102,
   "id": "8aac1cfe",
   "metadata": {},
   "outputs": [],
   "source": [
    "#Setup time variables\n",
    "last_train_day = df.index[-3].strftime('%Y-%m-%d')\n",
    "day_used_to_predict = df.index[-2].strftime('%Y-%m-%d')\n",
    "day_to_predict = df.index[-1].strftime('%Y-%m-%d')"
   ]
  },
  {
   "cell_type": "markdown",
   "id": "45004bf0",
   "metadata": {},
   "source": [
    "## Exploratory Data Analysis"
   ]
  },
  {
   "cell_type": "code",
   "execution_count": 103,
   "id": "d39d6322",
   "metadata": {},
   "outputs": [
    {
     "data": {
      "image/png": "[encoded data removed]",
      "text/plain": [
       "<Figure size 432x288 with 1 Axes>"
      ]
     },
     "metadata": {
      "needs_background": "light"
     },
     "output_type": "display_data"
    }
   ],
   "source": [
    "#Generate plot for EDA\n",
    "#plt.rcParams['figure.figsize'] = [20, 10]\n",
    "df['close_stock'].plot()\n",
    "plt.title('Stock price over time ({})'.format(stock_ticker))\n",
    "plt.show()"
   ]
  },
  {
   "cell_type": "code",
   "execution_count": 104,
   "id": "0fe82c42",
   "metadata": {},
   "outputs": [
    {
     "data": {
      "image/png": "[encoded data removed]",
      "text/plain": [
       "<Figure size 432x288 with 1 Axes>"
      ]
     },
     "metadata": {
      "needs_background": "light"
     },
     "output_type": "display_data"
    }
   ],
   "source": [
    "#Generate plot for EDA\n",
    "#plt.rcParams['figure.figsize'] = [20, 10]\n",
    "df['fed_rate'].plot()\n",
    "plt.title('Interest rate over time')\n",
    "plt.show()"
   ]
  },
  {
   "cell_type": "code",
   "execution_count": 105,
   "id": "54650d9e",
   "metadata": {},
   "outputs": [
    {
     "data": {
      "image/png": "[encoded data removed]",
      "text/plain": [
       "<Figure size 432x288 with 1 Axes>"
      ]
     },
     "metadata": {
      "needs_background": "light"
     },
     "output_type": "display_data"
    }
   ],
   "source": [
    "#Generate plot for EDA\n",
    "#plt.rcParams['figure.figsize'] = [20, 10]\n",
    "df['m2_supply'].plot()\n",
    "plt.title('M2 supply over time')\n",
    "plt.show()"
   ]
  },
  {
   "cell_type": "code",
   "execution_count": 106,
   "id": "49d6da0e",
   "metadata": {},
   "outputs": [
    {
     "data": {
      "image/png": "[encoded data removed]",
      "text/plain": [
       "<Figure size 432x288 with 1 Axes>"
      ]
     },
     "metadata": {
      "needs_background": "light"
     },
     "output_type": "display_data"
    }
   ],
   "source": [
    "#Generate plot for EDA\n",
    "df['close_stock'].pct_change().hist(bins=50)\n",
    "#plt.rcParams['figure.figsize'] = [20, 10]\n",
    "plt.title('Stock daily % returns distribution ({})'.format(stock_ticker))\n",
    "plt.show()"
   ]
  },
  {
   "cell_type": "code",
   "execution_count": 107,
   "id": "a8119c02",
   "metadata": {},
   "outputs": [
    {
     "data": {
      "image/png": "[encoded data removed]",
      "text/plain": [
       "<Figure size 432x288 with 1 Axes>"
      ]
     },
     "metadata": {
      "needs_background": "light"
     },
     "output_type": "display_data"
    }
   ],
   "source": [
    "#plt.rcParams['figure.figsize'] = [20, 10]\n",
    "df['close_stock'].pct_change().plot()\n",
    "plt.title('Stock daily % returns')\n",
    "plt.show()"
   ]
  },
  {
   "cell_type": "code",
   "execution_count": 108,
   "id": "fe3ed58e",
   "metadata": {},
   "outputs": [
    {
     "data": {
      "image/png": "[encoded data removed]",
      "text/plain": [
       "<Figure size 432x288 with 1 Axes>"
      ]
     },
     "metadata": {
      "needs_background": "light"
     },
     "output_type": "display_data"
    }
   ],
   "source": [
    "#plt.rcParams['figure.figsize'] = [20, 10]\n",
    "df['google_trend'].plot()\n",
    "plt.title('Google search trend over time({})'.format(stock_ticker))\n",
    "plt.show()"
   ]
  },
  {
   "cell_type": "markdown",
   "id": "f60ebb86",
   "metadata": {},
   "source": [
    "## Feature Engineering"
   ]
  },
  {
   "cell_type": "code",
   "execution_count": 109,
   "id": "aece9025",
   "metadata": {},
   "outputs": [],
   "source": [
    "#Generate RSI and MA for close_stock field for multiple periods\n",
    "for n in [14,30,50,200]:\n",
    "    # Normalize MA for better perfomance\n",
    "    df['ma' + str(n)] = talib.SMA(df['close_stock'].values,timeperiod=n) / df['close_stock']\n",
    "    # Create the RSI indicator\n",
    "    df['rsi' + str(n)] = talib.RSI(df['close_stock'].values, timeperiod=n)\n",
    "    \n",
    "#Generate stock percentage change\n",
    "df['volume_stock_pct_change_1d'] = df['volume_stock'].pct_change()\n",
    "\n",
    "#Generate target variable stock return change (next_day_pct_change)\n",
    "df['next_day_pct_change'] = df['close_stock'].shift(-1).pct_change()\n",
    "\n",
    "#Generate boolean value wether the last change in stock return was positive\n",
    "df['last_positive'] = df['next_day_pct_change'].shift(1) > 0\n",
    "\n",
    "#Actual change up to the current time\n",
    "actual_change = (df.loc[day_used_to_predict,['next_day_pct_change']] * 100).values[0]\n",
    "\n"
   ]
  },
  {
   "cell_type": "code",
   "execution_count": 110,
   "id": "e1b1c52a",
   "metadata": {},
   "outputs": [
    {
     "data": {
      "text/html": [
       "<div>\n",
       "<style scoped>\n",
       "    .dataframe tbody tr th:only-of-type {\n",
       "        vertical-align: middle;\n",
       "    }\n",
       "\n",
       "    .dataframe tbody tr th {\n",
       "        vertical-align: top;\n",
       "    }\n",
       "\n",
       "    .dataframe thead th {\n",
       "        text-align: right;\n",
       "    }\n",
       "</style>\n",
       "<table border=\"1\" class=\"dataframe\">\n",
       "  <thead>\n",
       "    <tr style=\"text-align: right;\">\n",
       "      <th></th>\n",
       "      <th>close_stock</th>\n",
       "      <th>volume_stock</th>\n",
       "      <th>close_sp500</th>\n",
       "      <th>volume_sp500</th>\n",
       "      <th>m2_supply</th>\n",
       "      <th>fed_rate</th>\n",
       "      <th>google_trend</th>\n",
       "      <th>ma14</th>\n",
       "      <th>rsi14</th>\n",
       "      <th>ma30</th>\n",
       "      <th>rsi30</th>\n",
       "      <th>ma50</th>\n",
       "      <th>rsi50</th>\n",
       "      <th>ma200</th>\n",
       "      <th>rsi200</th>\n",
       "      <th>volume_stock_pct_change_1d</th>\n",
       "      <th>next_day_pct_change</th>\n",
       "      <th>last_positive</th>\n",
       "    </tr>\n",
       "    <tr>\n",
       "      <th>Date</th>\n",
       "      <th></th>\n",
       "      <th></th>\n",
       "      <th></th>\n",
       "      <th></th>\n",
       "      <th></th>\n",
       "      <th></th>\n",
       "      <th></th>\n",
       "      <th></th>\n",
       "      <th></th>\n",
       "      <th></th>\n",
       "      <th></th>\n",
       "      <th></th>\n",
       "      <th></th>\n",
       "      <th></th>\n",
       "      <th></th>\n",
       "      <th></th>\n",
       "      <th></th>\n",
       "      <th></th>\n",
       "    </tr>\n",
       "  </thead>\n",
       "  <tbody>\n",
       "    <tr>\n",
       "      <th>2021-11-22</th>\n",
       "      <td>152.520004</td>\n",
       "      <td>58674100</td>\n",
       "      <td>4682.939941</td>\n",
       "      <td>3206280000</td>\n",
       "      <td>20982.9</td>\n",
       "      <td>0.08</td>\n",
       "      <td>53.0</td>\n",
       "      <td>0.960272</td>\n",
       "      <td>70.002664</td>\n",
       "      <td>0.860844</td>\n",
       "      <td>69.157429</td>\n",
       "      <td>0.789191</td>\n",
       "      <td>66.762838</td>\n",
       "      <td>0.631906</td>\n",
       "      <td>59.349435</td>\n",
       "      <td>0.409304</td>\n",
       "      <td>-0.017047</td>\n",
       "      <td>False</td>\n",
       "    </tr>\n",
       "    <tr>\n",
       "      <th>2021-11-23</th>\n",
       "      <td>149.919998</td>\n",
       "      <td>62852700</td>\n",
       "      <td>4690.700195</td>\n",
       "      <td>3428780000</td>\n",
       "      <td>20982.9</td>\n",
       "      <td>0.08</td>\n",
       "      <td>53.0</td>\n",
       "      <td>0.986164</td>\n",
       "      <td>65.739192</td>\n",
       "      <td>0.885752</td>\n",
       "      <td>66.854328</td>\n",
       "      <td>0.808773</td>\n",
       "      <td>65.260651</td>\n",
       "      <td>0.644833</td>\n",
       "      <td>58.911592</td>\n",
       "      <td>0.071217</td>\n",
       "      <td>0.052561</td>\n",
       "      <td>False</td>\n",
       "    </tr>\n",
       "    <tr>\n",
       "      <th>2021-11-24</th>\n",
       "      <td>157.800003</td>\n",
       "      <td>60677100</td>\n",
       "      <td>4701.459961</td>\n",
       "      <td>2464040000</td>\n",
       "      <td>20982.9</td>\n",
       "      <td>0.08</td>\n",
       "      <td>53.0</td>\n",
       "      <td>0.946107</td>\n",
       "      <td>71.420412</td>\n",
       "      <td>0.851796</td>\n",
       "      <td>69.987940</td>\n",
       "      <td>0.775001</td>\n",
       "      <td>67.520720</td>\n",
       "      <td>0.614706</td>\n",
       "      <td>59.814615</td>\n",
       "      <td>-0.034614</td>\n",
       "      <td>-0.018948</td>\n",
       "      <td>True</td>\n",
       "    </tr>\n",
       "    <tr>\n",
       "      <th>2021-11-26</th>\n",
       "      <td>154.809998</td>\n",
       "      <td>36245100</td>\n",
       "      <td>4594.620117</td>\n",
       "      <td>2676740000</td>\n",
       "      <td>20982.9</td>\n",
       "      <td>0.08</td>\n",
       "      <td>53.0</td>\n",
       "      <td>0.972902</td>\n",
       "      <td>66.888068</td>\n",
       "      <td>0.877467</td>\n",
       "      <td>67.483644</td>\n",
       "      <td>0.796247</td>\n",
       "      <td>65.861697</td>\n",
       "      <td>0.628586</td>\n",
       "      <td>59.317469</td>\n",
       "      <td>-0.402656</td>\n",
       "      <td>0.045863</td>\n",
       "      <td>False</td>\n",
       "    </tr>\n",
       "    <tr>\n",
       "      <th>2021-11-29</th>\n",
       "      <td>161.910004</td>\n",
       "      <td>57139174</td>\n",
       "      <td>4655.270020</td>\n",
       "      <td>2497291000</td>\n",
       "      <td>20982.9</td>\n",
       "      <td>0.08</td>\n",
       "      <td>53.0</td>\n",
       "      <td>0.935423</td>\n",
       "      <td>71.511290</td>\n",
       "      <td>0.849239</td>\n",
       "      <td>70.110805</td>\n",
       "      <td>0.768499</td>\n",
       "      <td>67.779935</td>\n",
       "      <td>0.603125</td>\n",
       "      <td>60.108728</td>\n",
       "      <td>0.576466</td>\n",
       "      <td>0.000000</td>\n",
       "      <td>True</td>\n",
       "    </tr>\n",
       "  </tbody>\n",
       "</table>\n",
       "</div>"
      ],
      "text/plain": [
       "            close_stock  volume_stock  close_sp500  volume_sp500  m2_supply  \\\n",
       "Date                                                                          \n",
       "2021-11-22   152.520004      58674100  4682.939941    3206280000    20982.9   \n",
       "2021-11-23   149.919998      62852700  4690.700195    3428780000    20982.9   \n",
       "2021-11-24   157.800003      60677100  4701.459961    2464040000    20982.9   \n",
       "2021-11-26   154.809998      36245100  4594.620117    2676740000    20982.9   \n",
       "2021-11-29   161.910004      57139174  4655.270020    2497291000    20982.9   \n",
       "\n",
       "            fed_rate  google_trend      ma14      rsi14      ma30      rsi30  \\\n",
       "Date                                                                           \n",
       "2021-11-22      0.08          53.0  0.960272  70.002664  0.860844  69.157429   \n",
       "2021-11-23      0.08          53.0  0.986164  65.739192  0.885752  66.854328   \n",
       "2021-11-24      0.08          53.0  0.946107  71.420412  0.851796  69.987940   \n",
       "2021-11-26      0.08          53.0  0.972902  66.888068  0.877467  67.483644   \n",
       "2021-11-29      0.08          53.0  0.935423  71.511290  0.849239  70.110805   \n",
       "\n",
       "                ma50      rsi50     ma200     rsi200  \\\n",
       "Date                                                   \n",
       "2021-11-22  0.789191  66.762838  0.631906  59.349435   \n",
       "2021-11-23  0.808773  65.260651  0.644833  58.911592   \n",
       "2021-11-24  0.775001  67.520720  0.614706  59.814615   \n",
       "2021-11-26  0.796247  65.861697  0.628586  59.317469   \n",
       "2021-11-29  0.768499  67.779935  0.603125  60.108728   \n",
       "\n",
       "            volume_stock_pct_change_1d  next_day_pct_change  last_positive  \n",
       "Date                                                                        \n",
       "2021-11-22                    0.409304            -0.017047          False  \n",
       "2021-11-23                    0.071217             0.052561          False  \n",
       "2021-11-24                   -0.034614            -0.018948           True  \n",
       "2021-11-26                   -0.402656             0.045863          False  \n",
       "2021-11-29                    0.576466             0.000000           True  "
      ]
     },
     "execution_count": 110,
     "metadata": {},
     "output_type": "execute_result"
    }
   ],
   "source": [
    "#days_of_week = pd.get_dummies(hist.index.dayofweek,drop_first=True)\n",
    "#days_of_week.columns = ['Tuesday','Wednesday','Thursday','Friday']\n",
    "#days_of_week.index = hist.index\n",
    "#hist = pd.concat([hist,days_of_week],axis=1)\n",
    "#days_of_week.head()\n",
    "#start_period\n",
    "df.tail()\n"
   ]
  },
  {
   "cell_type": "markdown",
   "id": "7323ca6a",
   "metadata": {},
   "source": [
    "## Machine Learning"
   ]
  },
  {
   "cell_type": "code",
   "execution_count": 111,
   "id": "453d58ad",
   "metadata": {},
   "outputs": [],
   "source": [
    "#Generate X matrix and y vector for ML models, from start_period\n",
    "start_period = '2016-01-01'\n",
    "#Remove missing values and slice from start period\n",
    "df = df.dropna()[start_period:] \n",
    "X = df.drop(['next_day_pct_change'],axis=1)\n",
    "y = df['next_day_pct_change']\n",
    "#Initialize an array in which we will save the predictions\n",
    "predictions = np.array([]) "
   ]
  },
  {
   "cell_type": "code",
   "execution_count": 112,
   "id": "f050a3fb",
   "metadata": {},
   "outputs": [],
   "source": [
    "#Define function to create sets\n",
    "def get_train_test_sets(X,y,knn=False): \n",
    "    scaler = StandardScaler() \n",
    "    X_train = X[:last_train_day]    \n",
    "    if knn is True:\n",
    "        X_train = scaler.fit_transform(X_train)\n",
    "    y_train = y[:last_train_day]        \n",
    "    X_used_to_predict = pd.DataFrame(df.drop(['next_day_pct_change'],axis=1).loc[day_used_to_predict]).transpose()    \n",
    "    #KNN algorithm requires the data to be scaled\n",
    "    if knn is True:\n",
    "        X_used_to_predict = scaler.transform(X_used_to_predict)\n",
    "    return  X_train,y_train,X_used_to_predict\n",
    "\n",
    "#Define function to train and evaluate models, and return the prediction for next day stock price\n",
    "def train_and_evaluate(model,X,y,knn=False):\n",
    "    X_train, y_train,X_used_to_predict = get_train_test_sets(X,y,knn=knn)    \n",
    "    model.fit(X_train,y_train)\n",
    "    y_train_pred = model.predict(X_train)    \n",
    "    y_day_to_predict_pred = model.predict(X_used_to_predict)    \n",
    "    print('R2 score for training set: ' + str(r2_score(y_train,y_train_pred)))    \n",
    "    print('Prediction % change for stock '+stock_ticker + ' ' +\\\n",
    "      day_to_predict+ \\\n",
    "      ' is: {:.2f}'.format(y_day_to_predict_pred[0]*100))    \n",
    "    if knn is False:\n",
    "        plot_feature_importances(model)\n",
    "    return y_day_to_predict_pred[0]*100\n",
    "    \n",
    "#Define function to plot feature importances\n",
    "def plot_feature_importances(model):    \n",
    "    importances = model.feature_importances_    \n",
    "    sorted_index = np.argsort(importances)[::-1]\n",
    "    x = range(len(importances))    \n",
    "    labels = np.array(model.feature_names_in_)[sorted_index]\n",
    "    plt.bar(x, importances[sorted_index], tick_label=labels)    \n",
    "    plt.xticks(rotation=90)\n",
    "    plt.show()"
   ]
  },
  {
   "cell_type": "code",
   "execution_count": 113,
   "id": "6ee5c0de",
   "metadata": {},
   "outputs": [
    {
     "name": "stdout",
     "output_type": "stream",
     "text": [
      "R2 score for training set: 0.8394262325152764\n",
      "Prediction % change for stock AMD 2021-11-29 is: 1.56\n"
     ]
    },
    {
     "data": {
      "image/png": "[encoded data removed]",
      "text/plain": [
       "<Figure size 432x288 with 1 Axes>"
      ]
     },
     "metadata": {
      "needs_background": "light"
     },
     "output_type": "display_data"
    }
   ],
   "source": [
    "#Train and evaluate Random Forest\n",
    "random_forest = RandomForestRegressor(random_state=100)\n",
    "pred = train_and_evaluate(random_forest,X,y)\n",
    "predictions = np.append(predictions,pred)"
   ]
  },
  {
   "cell_type": "code",
   "execution_count": 114,
   "id": "092be0be",
   "metadata": {},
   "outputs": [
    {
     "name": "stdout",
     "output_type": "stream",
     "text": [
      "R2 score for training set: 0.07231907769163715\n",
      "Prediction % change for stock AMD 2021-11-29 is: 0.36\n"
     ]
    },
    {
     "data": {
      "image/png": "[encoded data removed]",
      "text/plain": [
       "<Figure size 432x288 with 1 Axes>"
      ]
     },
     "metadata": {
      "needs_background": "light"
     },
     "output_type": "display_data"
    }
   ],
   "source": [
    "#Train and evaluate Gradient Boosting\n",
    "gbr = GradientBoostingRegressor(max_features=3,\n",
    "                                learning_rate=0.01,\n",
    "                                n_estimators=100,                                \n",
    "                                subsample=0.6,\n",
    "                                random_state=100)\n",
    "pred = train_and_evaluate(gbr,X,y)\n",
    "predictions = np.append(predictions,pred)"
   ]
  },
  {
   "cell_type": "code",
   "execution_count": 115,
   "id": "0b782485",
   "metadata": {},
   "outputs": [
    {
     "name": "stdout",
     "output_type": "stream",
     "text": [
      "R2 score for training set: 0.328493013706569\n",
      "Prediction % change for stock AMD 2021-11-29 is: 3.92\n"
     ]
    }
   ],
   "source": [
    "#Train and evaluate KNN\n",
    "knn = KNeighborsRegressor(n_neighbors=3)\n",
    "pred = train_and_evaluate(knn,X,y,knn=True)\n",
    "predictions = np.append(predictions,pred)"
   ]
  },
  {
   "cell_type": "code",
   "execution_count": 116,
   "id": "ee4b9be6",
   "metadata": {},
   "outputs": [
    {
     "name": "stdout",
     "output_type": "stream",
     "text": [
      "The p-value for the ADF test is  1.0\n"
     ]
    }
   ],
   "source": [
    "from statsmodels.tsa.stattools import adfuller\n",
    "# Compute and print ADF p-value\n",
    "result = adfuller(df['close_stock'])\n",
    "print(\"The p-value for the ADF test is \", result[1])"
   ]
  },
  {
   "cell_type": "code",
   "execution_count": 117,
   "id": "c5882584",
   "metadata": {},
   "outputs": [
    {
     "data": {
      "image/png": "[encoded data removed]",
      "text/plain": [
       "<Figure size 432x288 with 2 Axes>"
      ]
     },
     "metadata": {
      "needs_background": "light"
     },
     "output_type": "display_data"
    }
   ],
   "source": [
    "from statsmodels.graphics.tsaplots import plot_acf, plot_pacf\n",
    "diff = pd.DataFrame(df['close_stock'].pct_change()).dropna()\n",
    "\n",
    "# Plot the ACF and PACF on the same page\n",
    "fig, axes = plt.subplots(2,1)\n",
    "\n",
    "# Plot the ACF\n",
    "plot_acf(diff, lags=20, ax=axes[0])\n",
    "\n",
    "# Plot the PACF\n",
    "plot_pacf(diff, lags=20, ax=axes[1])\n",
    "plt.show()"
   ]
  },
  {
   "cell_type": "code",
   "execution_count": 118,
   "id": "5b877e18",
   "metadata": {},
   "outputs": [
    {
     "name": "stdout",
     "output_type": "stream",
     "text": [
      "The AIC for an AR(1) is:  -5430.37931833749\n",
      "The AIC for an AR(2) is:  -5436.752154585539\n",
      "The AIC for an ARMA(1,1) is:  -5438.862136376713\n"
     ]
    }
   ],
   "source": [
    "warnings.filterwarnings('ignore')\n",
    "# Import the module for estimating an ARMA model\n",
    "from statsmodels.tsa.arima_model import ARMA\n",
    "\n",
    "# Fit the data to an AR(1) model and print AIC:\n",
    "mod_ar1 = ARMA(diff, order=(1, 0))\n",
    "res_ar1 = mod_ar1.fit()\n",
    "print(\"The AIC for an AR(1) is: \", res_ar1.aic)\n",
    "\n",
    "# Fit the data to an AR(2) model and print AIC:\n",
    "mod_ar2 = ARMA(diff, order=(2, 0))\n",
    "res_ar2 = mod_ar2.fit()\n",
    "print(\"The AIC for an AR(2) is: \", res_ar2.aic)\n",
    "\n",
    "# Fit the data to an ARMA(1,1) model and print AIC:\n",
    "mod_arma11 = ARMA(diff,order=(1,1))\n",
    "res_arma11 = mod_arma11.fit()\n",
    "print(\"The AIC for an ARMA(1,1) is: \", res_arma11.aic)"
   ]
  },
  {
   "cell_type": "code",
   "execution_count": 119,
   "id": "14300e0b",
   "metadata": {},
   "outputs": [
    {
     "data": {
      "image/png": "[encoded data removed]",
      "text/plain": [
       "<Figure size 432x288 with 1 Axes>"
      ]
     },
     "metadata": {
      "needs_background": "light"
     },
     "output_type": "display_data"
    }
   ],
   "source": [
    "res_ar1.plot_predict(start=len(diff)-100)\n",
    "plt.show()"
   ]
  },
  {
   "cell_type": "code",
   "execution_count": 120,
   "id": "ea731f12",
   "metadata": {},
   "outputs": [
    {
     "name": "stdout",
     "output_type": "stream",
     "text": [
      "AR(1) prediction change for stock AMD 2021-11-29 is: 0.00%\n",
      "Random Forest prediction change for stock AMD 2021-11-29 is: 1.56%\n",
      "Gradient Boosting prediction change for stock AMD 2021-11-29 is: 0.36%\n",
      "KNN prediction change for stock AMD 2021-11-29 is: 3.92%\n",
      "\n",
      "Actual prediction change of day 2021-11-29 up to this moment is 4.59%\n"
     ]
    }
   ],
   "source": [
    "#Print AR(1) prediction\n",
    "prediction = res_ar1.predict(start=len(diff)-1,end=len(diff)).iloc[1] * 100\n",
    "print('AR(1) prediction change for stock '+stock_ticker + ' ' +\\\n",
    "      day_to_predict+ \\\n",
    "      ' is: {:.2f}%'.format(prediction))\n",
    "\n",
    "#Print Random Forest prediction\n",
    "print('Random Forest prediction change for stock '+stock_ticker + ' ' +\\\n",
    "      day_to_predict+ \\\n",
    "      ' is: {:.2f}%'.format(predictions[0]))\n",
    "\n",
    "#Print Gradient Boosting prediction\n",
    "print('Gradient Boosting prediction change for stock '+stock_ticker + ' ' +\\\n",
    "      day_to_predict+ \\\n",
    "      ' is: {:.2f}%'.format(predictions[1]))\n",
    "\n",
    "#Print KNN prediction\n",
    "print('KNN prediction change for stock '+stock_ticker + ' ' +\\\n",
    "      day_to_predict+ \\\n",
    "      ' is: {:.2f}%'.format(predictions[2]))\n",
    "\n",
    "#Print actual change\n",
    "print('\\nActual prediction change of day {} up to this moment is {:.2f}%'.format(day_to_predict,actual_change))"
   ]
  },
  {
   "cell_type": "code",
   "execution_count": 121,
   "id": "8af7a0d4",
   "metadata": {},
   "outputs": [
    {
     "data": {
      "text/html": [
       "<div>\n",
       "<style scoped>\n",
       "    .dataframe tbody tr th:only-of-type {\n",
       "        vertical-align: middle;\n",
       "    }\n",
       "\n",
       "    .dataframe tbody tr th {\n",
       "        vertical-align: top;\n",
       "    }\n",
       "\n",
       "    .dataframe thead th {\n",
       "        text-align: right;\n",
       "    }\n",
       "</style>\n",
       "<table border=\"1\" class=\"dataframe\">\n",
       "  <thead>\n",
       "    <tr style=\"text-align: right;\">\n",
       "      <th></th>\n",
       "      <th>close_stock</th>\n",
       "      <th>volume_stock</th>\n",
       "      <th>close_sp500</th>\n",
       "      <th>volume_sp500</th>\n",
       "      <th>m2_supply</th>\n",
       "      <th>fed_rate</th>\n",
       "      <th>google_trend</th>\n",
       "      <th>ma14</th>\n",
       "      <th>rsi14</th>\n",
       "      <th>ma30</th>\n",
       "      <th>rsi30</th>\n",
       "      <th>ma50</th>\n",
       "      <th>rsi50</th>\n",
       "      <th>ma200</th>\n",
       "      <th>rsi200</th>\n",
       "      <th>volume_stock_pct_change_1d</th>\n",
       "      <th>next_day_pct_change</th>\n",
       "      <th>last_positive</th>\n",
       "    </tr>\n",
       "    <tr>\n",
       "      <th>Date</th>\n",
       "      <th></th>\n",
       "      <th></th>\n",
       "      <th></th>\n",
       "      <th></th>\n",
       "      <th></th>\n",
       "      <th></th>\n",
       "      <th></th>\n",
       "      <th></th>\n",
       "      <th></th>\n",
       "      <th></th>\n",
       "      <th></th>\n",
       "      <th></th>\n",
       "      <th></th>\n",
       "      <th></th>\n",
       "      <th></th>\n",
       "      <th></th>\n",
       "      <th></th>\n",
       "      <th></th>\n",
       "    </tr>\n",
       "  </thead>\n",
       "  <tbody>\n",
       "    <tr>\n",
       "      <th>2021-11-15</th>\n",
       "      <td>146.490005</td>\n",
       "      <td>52271300</td>\n",
       "      <td>4682.799805</td>\n",
       "      <td>2618980000</td>\n",
       "      <td>20982.9</td>\n",
       "      <td>0.08</td>\n",
       "      <td>53.0</td>\n",
       "      <td>0.926558</td>\n",
       "      <td>70.815752</td>\n",
       "      <td>0.840508</td>\n",
       "      <td>69.019435</td>\n",
       "      <td>0.789556</td>\n",
       "      <td>66.270307</td>\n",
       "      <td>0.646900</td>\n",
       "      <td>58.861089</td>\n",
       "      <td>0.002822</td>\n",
       "      <td>0.040685</td>\n",
       "      <td>False</td>\n",
       "    </tr>\n",
       "    <tr>\n",
       "      <th>2021-11-16</th>\n",
       "      <td>152.449997</td>\n",
       "      <td>53100800</td>\n",
       "      <td>4700.899902</td>\n",
       "      <td>2838210000</td>\n",
       "      <td>20982.9</td>\n",
       "      <td>0.08</td>\n",
       "      <td>53.0</td>\n",
       "      <td>0.904470</td>\n",
       "      <td>74.421930</td>\n",
       "      <td>0.818721</td>\n",
       "      <td>71.310688</td>\n",
       "      <td>0.764369</td>\n",
       "      <td>67.996644</td>\n",
       "      <td>0.623695</td>\n",
       "      <td>59.560563</td>\n",
       "      <td>0.015869</td>\n",
       "      <td>-0.007281</td>\n",
       "      <td>True</td>\n",
       "    </tr>\n",
       "    <tr>\n",
       "      <th>2021-11-17</th>\n",
       "      <td>151.339996</td>\n",
       "      <td>54527500</td>\n",
       "      <td>4688.669922</td>\n",
       "      <td>3221250000</td>\n",
       "      <td>20982.9</td>\n",
       "      <td>0.08</td>\n",
       "      <td>53.0</td>\n",
       "      <td>0.925348</td>\n",
       "      <td>72.622107</td>\n",
       "      <td>0.835232</td>\n",
       "      <td>70.308857</td>\n",
       "      <td>0.775944</td>\n",
       "      <td>67.341633</td>\n",
       "      <td>0.630366</td>\n",
       "      <td>59.371611</td>\n",
       "      <td>0.026868</td>\n",
       "      <td>0.024316</td>\n",
       "      <td>False</td>\n",
       "    </tr>\n",
       "    <tr>\n",
       "      <th>2021-11-18</th>\n",
       "      <td>155.020004</td>\n",
       "      <td>60612700</td>\n",
       "      <td>4704.540039</td>\n",
       "      <td>3335620000</td>\n",
       "      <td>20982.9</td>\n",
       "      <td>0.08</td>\n",
       "      <td>53.0</td>\n",
       "      <td>0.919411</td>\n",
       "      <td>74.798169</td>\n",
       "      <td>0.825848</td>\n",
       "      <td>71.673688</td>\n",
       "      <td>0.763829</td>\n",
       "      <td>68.372323</td>\n",
       "      <td>0.617569</td>\n",
       "      <td>59.796582</td>\n",
       "      <td>0.111599</td>\n",
       "      <td>0.002516</td>\n",
       "      <td>True</td>\n",
       "    </tr>\n",
       "    <tr>\n",
       "      <th>2021-11-19</th>\n",
       "      <td>155.410004</td>\n",
       "      <td>41633400</td>\n",
       "      <td>4697.959961</td>\n",
       "      <td>3265600000</td>\n",
       "      <td>20982.9</td>\n",
       "      <td>0.08</td>\n",
       "      <td>53.0</td>\n",
       "      <td>0.930975</td>\n",
       "      <td>75.024728</td>\n",
       "      <td>0.834575</td>\n",
       "      <td>71.815723</td>\n",
       "      <td>0.768374</td>\n",
       "      <td>68.479897</td>\n",
       "      <td>0.618191</td>\n",
       "      <td>59.841322</td>\n",
       "      <td>-0.313124</td>\n",
       "      <td>-0.018596</td>\n",
       "      <td>True</td>\n",
       "    </tr>\n",
       "    <tr>\n",
       "      <th>2021-11-22</th>\n",
       "      <td>152.520004</td>\n",
       "      <td>58674100</td>\n",
       "      <td>4682.939941</td>\n",
       "      <td>3206280000</td>\n",
       "      <td>20982.9</td>\n",
       "      <td>0.08</td>\n",
       "      <td>53.0</td>\n",
       "      <td>0.960272</td>\n",
       "      <td>70.002664</td>\n",
       "      <td>0.860844</td>\n",
       "      <td>69.157429</td>\n",
       "      <td>0.789191</td>\n",
       "      <td>66.762838</td>\n",
       "      <td>0.631906</td>\n",
       "      <td>59.349435</td>\n",
       "      <td>0.409304</td>\n",
       "      <td>-0.017047</td>\n",
       "      <td>False</td>\n",
       "    </tr>\n",
       "    <tr>\n",
       "      <th>2021-11-23</th>\n",
       "      <td>149.919998</td>\n",
       "      <td>62852700</td>\n",
       "      <td>4690.700195</td>\n",
       "      <td>3428780000</td>\n",
       "      <td>20982.9</td>\n",
       "      <td>0.08</td>\n",
       "      <td>53.0</td>\n",
       "      <td>0.986164</td>\n",
       "      <td>65.739192</td>\n",
       "      <td>0.885752</td>\n",
       "      <td>66.854328</td>\n",
       "      <td>0.808773</td>\n",
       "      <td>65.260651</td>\n",
       "      <td>0.644833</td>\n",
       "      <td>58.911592</td>\n",
       "      <td>0.071217</td>\n",
       "      <td>0.052561</td>\n",
       "      <td>False</td>\n",
       "    </tr>\n",
       "    <tr>\n",
       "      <th>2021-11-24</th>\n",
       "      <td>157.800003</td>\n",
       "      <td>60677100</td>\n",
       "      <td>4701.459961</td>\n",
       "      <td>2464040000</td>\n",
       "      <td>20982.9</td>\n",
       "      <td>0.08</td>\n",
       "      <td>53.0</td>\n",
       "      <td>0.946107</td>\n",
       "      <td>71.420412</td>\n",
       "      <td>0.851796</td>\n",
       "      <td>69.987940</td>\n",
       "      <td>0.775001</td>\n",
       "      <td>67.520720</td>\n",
       "      <td>0.614706</td>\n",
       "      <td>59.814615</td>\n",
       "      <td>-0.034614</td>\n",
       "      <td>-0.018948</td>\n",
       "      <td>True</td>\n",
       "    </tr>\n",
       "    <tr>\n",
       "      <th>2021-11-26</th>\n",
       "      <td>154.809998</td>\n",
       "      <td>36245100</td>\n",
       "      <td>4594.620117</td>\n",
       "      <td>2676740000</td>\n",
       "      <td>20982.9</td>\n",
       "      <td>0.08</td>\n",
       "      <td>53.0</td>\n",
       "      <td>0.972902</td>\n",
       "      <td>66.888068</td>\n",
       "      <td>0.877467</td>\n",
       "      <td>67.483644</td>\n",
       "      <td>0.796247</td>\n",
       "      <td>65.861697</td>\n",
       "      <td>0.628586</td>\n",
       "      <td>59.317469</td>\n",
       "      <td>-0.402656</td>\n",
       "      <td>0.045863</td>\n",
       "      <td>False</td>\n",
       "    </tr>\n",
       "    <tr>\n",
       "      <th>2021-11-29</th>\n",
       "      <td>161.910004</td>\n",
       "      <td>57139174</td>\n",
       "      <td>4655.270020</td>\n",
       "      <td>2497291000</td>\n",
       "      <td>20982.9</td>\n",
       "      <td>0.08</td>\n",
       "      <td>53.0</td>\n",
       "      <td>0.935423</td>\n",
       "      <td>71.511290</td>\n",
       "      <td>0.849239</td>\n",
       "      <td>70.110805</td>\n",
       "      <td>0.768499</td>\n",
       "      <td>67.779935</td>\n",
       "      <td>0.603125</td>\n",
       "      <td>60.108728</td>\n",
       "      <td>0.576466</td>\n",
       "      <td>0.000000</td>\n",
       "      <td>True</td>\n",
       "    </tr>\n",
       "  </tbody>\n",
       "</table>\n",
       "</div>"
      ],
      "text/plain": [
       "            close_stock  volume_stock  close_sp500  volume_sp500  m2_supply  \\\n",
       "Date                                                                          \n",
       "2021-11-15   146.490005      52271300  4682.799805    2618980000    20982.9   \n",
       "2021-11-16   152.449997      53100800  4700.899902    2838210000    20982.9   \n",
       "2021-11-17   151.339996      54527500  4688.669922    3221250000    20982.9   \n",
       "2021-11-18   155.020004      60612700  4704.540039    3335620000    20982.9   \n",
       "2021-11-19   155.410004      41633400  4697.959961    3265600000    20982.9   \n",
       "2021-11-22   152.520004      58674100  4682.939941    3206280000    20982.9   \n",
       "2021-11-23   149.919998      62852700  4690.700195    3428780000    20982.9   \n",
       "2021-11-24   157.800003      60677100  4701.459961    2464040000    20982.9   \n",
       "2021-11-26   154.809998      36245100  4594.620117    2676740000    20982.9   \n",
       "2021-11-29   161.910004      57139174  4655.270020    2497291000    20982.9   \n",
       "\n",
       "            fed_rate  google_trend      ma14      rsi14      ma30      rsi30  \\\n",
       "Date                                                                           \n",
       "2021-11-15      0.08          53.0  0.926558  70.815752  0.840508  69.019435   \n",
       "2021-11-16      0.08          53.0  0.904470  74.421930  0.818721  71.310688   \n",
       "2021-11-17      0.08          53.0  0.925348  72.622107  0.835232  70.308857   \n",
       "2021-11-18      0.08          53.0  0.919411  74.798169  0.825848  71.673688   \n",
       "2021-11-19      0.08          53.0  0.930975  75.024728  0.834575  71.815723   \n",
       "2021-11-22      0.08          53.0  0.960272  70.002664  0.860844  69.157429   \n",
       "2021-11-23      0.08          53.0  0.986164  65.739192  0.885752  66.854328   \n",
       "2021-11-24      0.08          53.0  0.946107  71.420412  0.851796  69.987940   \n",
       "2021-11-26      0.08          53.0  0.972902  66.888068  0.877467  67.483644   \n",
       "2021-11-29      0.08          53.0  0.935423  71.511290  0.849239  70.110805   \n",
       "\n",
       "                ma50      rsi50     ma200     rsi200  \\\n",
       "Date                                                   \n",
       "2021-11-15  0.789556  66.270307  0.646900  58.861089   \n",
       "2021-11-16  0.764369  67.996644  0.623695  59.560563   \n",
       "2021-11-17  0.775944  67.341633  0.630366  59.371611   \n",
       "2021-11-18  0.763829  68.372323  0.617569  59.796582   \n",
       "2021-11-19  0.768374  68.479897  0.618191  59.841322   \n",
       "2021-11-22  0.789191  66.762838  0.631906  59.349435   \n",
       "2021-11-23  0.808773  65.260651  0.644833  58.911592   \n",
       "2021-11-24  0.775001  67.520720  0.614706  59.814615   \n",
       "2021-11-26  0.796247  65.861697  0.628586  59.317469   \n",
       "2021-11-29  0.768499  67.779935  0.603125  60.108728   \n",
       "\n",
       "            volume_stock_pct_change_1d  next_day_pct_change  last_positive  \n",
       "Date                                                                        \n",
       "2021-11-15                    0.002822             0.040685          False  \n",
       "2021-11-16                    0.015869            -0.007281           True  \n",
       "2021-11-17                    0.026868             0.024316          False  \n",
       "2021-11-18                    0.111599             0.002516           True  \n",
       "2021-11-19                   -0.313124            -0.018596           True  \n",
       "2021-11-22                    0.409304            -0.017047          False  \n",
       "2021-11-23                    0.071217             0.052561          False  \n",
       "2021-11-24                   -0.034614            -0.018948           True  \n",
       "2021-11-26                   -0.402656             0.045863          False  \n",
       "2021-11-29                    0.576466             0.000000           True  "
      ]
     },
     "execution_count": 121,
     "metadata": {},
     "output_type": "execute_result"
    }
   ],
   "source": [
    "df.tail(10)"
   ]
  },
  {
   "cell_type": "code",
   "execution_count": null,
   "id": "20b29655",
   "metadata": {},
   "outputs": [],
   "source": []
  }
 ],
 "metadata": {
  "kernelspec": {
   "display_name": "Python 3 (ipykernel)",
   "language": "python",
   "name": "python3"
  },
  "language_info": {
   "codemirror_mode": {
    "name": "ipython",
    "version": 3
   },
   "file_extension": ".py",
   "mimetype": "text/x-python",
   "name": "python",
   "nbconvert_exporter": "python",
   "pygments_lexer": "ipython3",
   "version": "3.8.10"
  }
 },
 "nbformat": 4,
 "nbformat_minor": 5
}
