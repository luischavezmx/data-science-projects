{
 "cells": [
  {
   "cell_type": "markdown",
   "id": "d54aca80",
   "metadata": {},
   "source": [
    "# Topic Clustering using NMF\n",
    "By: Luis Chavez\n",
    "\n",
    "## Problem Description\n",
    "In this project we will focus on the unsupervised situation when the classes are not known and they need to be discovered via clustering. Clustering here can be done via the matrix factorisation technique NMF. The task of the project is to discover topics of department of justice press releases.\n",
    "\n",
    "## Data Source\n",
    "https://www.kaggle.com/jbencina/department-of-justice-20092018-press-releases/\n",
    "\n",
    "## Example Implementation\n",
    "https://towardsdatascience.com/topic-modeling-articles-with-nmf-8c6b2a227a45"
   ]
  },
  {
   "cell_type": "code",
   "execution_count": 1,
   "id": "2a37f7fd",
   "metadata": {},
   "outputs": [],
   "source": [
    "#Importing required libraries\n",
    "import nltk\n",
    "import spacy\n",
    "import numpy as np\n",
    "import pandas as pd\n",
    "import seaborn as sns\n",
    "import matplotlib.pyplot as plt\n",
    "from sklearn.feature_extraction.text import TfidfVectorizer,CountVectorizer\n",
    "from sklearn.decomposition import NMF\n",
    "from gensim.corpora.dictionary import Dictionary\n",
    "from nltk.tokenize import word_tokenize\n",
    "from gensim.models.nmf import Nmf\n",
    "from gensim.models import CoherenceModel\n",
    "\n",
    "#This might be needed in some systems where is not installed\n",
    "#nltk.download('punkt')"
   ]
  },
  {
   "cell_type": "markdown",
   "id": "67aedf16",
   "metadata": {},
   "source": [
    "## Data Load and Quality Check"
   ]
  },
  {
   "cell_type": "code",
   "execution_count": 2,
   "id": "53f13755",
   "metadata": {},
   "outputs": [
    {
     "data": {
      "text/html": [
       "<div>\n",
       "<style scoped>\n",
       "    .dataframe tbody tr th:only-of-type {\n",
       "        vertical-align: middle;\n",
       "    }\n",
       "\n",
       "    .dataframe tbody tr th {\n",
       "        vertical-align: top;\n",
       "    }\n",
       "\n",
       "    .dataframe thead th {\n",
       "        text-align: right;\n",
       "    }\n",
       "</style>\n",
       "<table border=\"1\" class=\"dataframe\">\n",
       "  <thead>\n",
       "    <tr style=\"text-align: right;\">\n",
       "      <th></th>\n",
       "      <th>id</th>\n",
       "      <th>title</th>\n",
       "      <th>contents</th>\n",
       "      <th>date</th>\n",
       "      <th>topics</th>\n",
       "      <th>components</th>\n",
       "    </tr>\n",
       "  </thead>\n",
       "  <tbody>\n",
       "    <tr>\n",
       "      <th>0</th>\n",
       "      <td>None</td>\n",
       "      <td>Convicted Bomb Plotter Sentenced to 30 Years</td>\n",
       "      <td>PORTLAND, Oregon. – Mohamed Osman Mohamud, 23,...</td>\n",
       "      <td>2014-10-01T00:00:00-04:00</td>\n",
       "      <td>[]</td>\n",
       "      <td>[National Security Division (NSD)]</td>\n",
       "    </tr>\n",
       "    <tr>\n",
       "      <th>1</th>\n",
       "      <td>12-919</td>\n",
       "      <td>$1 Million in Restitution Payments Announced t...</td>\n",
       "      <td>WASHINGTON – North Carolina’s Waccamaw River...</td>\n",
       "      <td>2012-07-25T00:00:00-04:00</td>\n",
       "      <td>[]</td>\n",
       "      <td>[Environment and Natural Resources Division]</td>\n",
       "    </tr>\n",
       "    <tr>\n",
       "      <th>2</th>\n",
       "      <td>11-1002</td>\n",
       "      <td>$1 Million Settlement Reached for Natural Reso...</td>\n",
       "      <td>BOSTON– A $1-million settlement has been...</td>\n",
       "      <td>2011-08-03T00:00:00-04:00</td>\n",
       "      <td>[]</td>\n",
       "      <td>[Environment and Natural Resources Division]</td>\n",
       "    </tr>\n",
       "    <tr>\n",
       "      <th>3</th>\n",
       "      <td>10-015</td>\n",
       "      <td>10 Las Vegas Men Indicted \\r\\nfor Falsifying V...</td>\n",
       "      <td>WASHINGTON—A federal grand jury in Las Vegas...</td>\n",
       "      <td>2010-01-08T00:00:00-05:00</td>\n",
       "      <td>[]</td>\n",
       "      <td>[Environment and Natural Resources Division]</td>\n",
       "    </tr>\n",
       "    <tr>\n",
       "      <th>4</th>\n",
       "      <td>18-898</td>\n",
       "      <td>$100 Million Settlement Will Speed Cleanup Wor...</td>\n",
       "      <td>The U.S. Department of Justice, the U.S. Envir...</td>\n",
       "      <td>2018-07-09T00:00:00-04:00</td>\n",
       "      <td>[Environment]</td>\n",
       "      <td>[Environment and Natural Resources Division]</td>\n",
       "    </tr>\n",
       "  </tbody>\n",
       "</table>\n",
       "</div>"
      ],
      "text/plain": [
       "        id                                              title  \\\n",
       "0     None       Convicted Bomb Plotter Sentenced to 30 Years   \n",
       "1  12-919   $1 Million in Restitution Payments Announced t...   \n",
       "2  11-1002  $1 Million Settlement Reached for Natural Reso...   \n",
       "3   10-015  10 Las Vegas Men Indicted \\r\\nfor Falsifying V...   \n",
       "4   18-898  $100 Million Settlement Will Speed Cleanup Wor...   \n",
       "\n",
       "                                            contents  \\\n",
       "0  PORTLAND, Oregon. – Mohamed Osman Mohamud, 23,...   \n",
       "1    WASHINGTON – North Carolina’s Waccamaw River...   \n",
       "2        BOSTON– A $1-million settlement has been...   \n",
       "3    WASHINGTON—A federal grand jury in Las Vegas...   \n",
       "4  The U.S. Department of Justice, the U.S. Envir...   \n",
       "\n",
       "                        date         topics  \\\n",
       "0  2014-10-01T00:00:00-04:00             []   \n",
       "1  2012-07-25T00:00:00-04:00             []   \n",
       "2  2011-08-03T00:00:00-04:00             []   \n",
       "3  2010-01-08T00:00:00-05:00             []   \n",
       "4  2018-07-09T00:00:00-04:00  [Environment]   \n",
       "\n",
       "                                     components  \n",
       "0            [National Security Division (NSD)]  \n",
       "1  [Environment and Natural Resources Division]  \n",
       "2  [Environment and Natural Resources Division]  \n",
       "3  [Environment and Natural Resources Division]  \n",
       "4  [Environment and Natural Resources Division]  "
      ]
     },
     "execution_count": 2,
     "metadata": {},
     "output_type": "execute_result"
    }
   ],
   "source": [
    "#Reading content in a DataFrame\n",
    "df = pd.read_json('combined.json',lines=True)\n",
    "df.head()"
   ]
  },
  {
   "cell_type": "code",
   "execution_count": 3,
   "id": "0fd62b11",
   "metadata": {},
   "outputs": [
    {
     "data": {
      "text/plain": [
       "id            277\n",
       "title           0\n",
       "contents        0\n",
       "date            0\n",
       "topics          0\n",
       "components      0\n",
       "dtype: int64"
      ]
     },
     "execution_count": 3,
     "metadata": {},
     "output_type": "execute_result"
    }
   ],
   "source": [
    "#Checking null values in the data\n",
    "df.isnull().sum()"
   ]
  },
  {
   "cell_type": "code",
   "execution_count": 4,
   "id": "b394b41d",
   "metadata": {},
   "outputs": [],
   "source": [
    "#Removing some columns not needed\n",
    "columns_to_keep = ['title','contents']\n",
    "df = df[columns_to_keep]"
   ]
  },
  {
   "cell_type": "markdown",
   "id": "bedd735b",
   "metadata": {},
   "source": [
    "After checking the data quality:\n",
    "1. Found that the only relevant columns for our unsupervised learning NMF model are title and contents\n",
    "2. There are no null values to fill in or remove. Only id column which has been already removed had null values"
   ]
  },
  {
   "cell_type": "markdown",
   "id": "192fb65c",
   "metadata": {},
   "source": [
    "## Exploratory Data Analysis "
   ]
  },
  {
   "cell_type": "code",
   "execution_count": 7,
   "id": "2233725d",
   "metadata": {},
   "outputs": [
    {
     "name": "stdout",
     "output_type": "stream",
     "text": [
      "count    13087.000000\n",
      "mean       575.597387\n",
      "std        503.415802\n",
      "min          0.000000\n",
      "25%        348.000000\n",
      "50%        490.000000\n",
      "75%        687.000000\n",
      "max      25254.000000\n",
      "Name: word_count, dtype: float64\n"
     ]
    },
    {
     "data": {
      "text/plain": [
       "<AxesSubplot:xlabel='word_count'>"
      ]
     },
     "execution_count": 7,
     "metadata": {},
     "output_type": "execute_result"
    },
    {
     "data": {
      "image/png": "[encoded data removed]",
      "text/plain": [
       "<Figure size 1152x432 with 1 Axes>"
      ]
     },
     "metadata": {
      "needs_background": "light"
     },
     "output_type": "display_data"
    }
   ],
   "source": [
    "#Plotting and printing a summary of the word count\n",
    "word_count = pd.DataFrame()\n",
    "word_count['word_count'] = pd.Series([len(content.split()) for content in df['contents']]) \n",
    "plt.figure(figsize=(16, 6))\n",
    "print(word_count['word_count'].describe())\n",
    "sns.boxplot(data=word_count,x='word_count')"
   ]
  },
  {
   "cell_type": "code",
   "execution_count": 19,
   "id": "5da61cde",
   "metadata": {},
   "outputs": [
    {
     "data": {
      "text/plain": [
       "'Federal authorities arrested Yi-Chi Shih, 62, and Kiet Ahn Mai, 63, on Jan. 19, on federal charges that allege a scheme to illegally obtain technology and integrated circuits with military applications that were exported to a Chinese company without the required export license. \\xa0 The announcement was made by Acting Assistant Attorney General for National Security Dana J. Boente; U.S. Attorney Nicola T. Hanna for the Central District of California; Assistant Director in Charge Paul Delacourt of the FBI’s Los Angeles Field Office; Special Agent in Charge R. Damon Rowe of IRS Criminal Investigation; Special Agent in Charge Richard Weir of the U.S. Department of Commerce, Bureau of Industry and Security, Office of Export Enforcement, Los Angeles Field Office. \\xa0 “According to the complaint, the defendants allegedly schemed to illegally export semiconductors having military and civilian applications to a Chinese company,” said Acting Assistant Attorney General Boente.\\xa0 “Protecting this type of technology and preventing its illegal acquisition by our adversaries remains a key priority in preserving our national security.” \\xa0 “This case outlines a scheme to secure proprietary technology, some of which was allegedly sent to China, where it could be used to provide companies there with significant advantages that would compromise U.S. business interests,” said U.S. Attorney Hanna. \\xa0“The very sensitive information would also benefit foreign adversaries who could use the technology to further or develop military applications that would be detrimental to our national security.” \\xa0 “The FBI, working jointly with our law enforcement partners, remains committed to bringing to justice those who seek to illegally export some of our nation’s most sensitive technologies to the detriment of our national security and hard-working United States companies,” said Assistant Director in Charge Delacourt. \\xa0“Rest assured, the FBI will continue to diligently pursue any and all leads that involve the illegal exportation of U.S. technology which will cause harm to our long-term national security interests.” \\xa0 “Today’s actions serve as a reminder that the government will hold individuals accountable who fraudulently procure and export unlawfully protected United States technology and attempt to conceal their criminal activity through international money laundering,” said Special Agent in Charge Rowe. \\xa0“The IRS plays an important role in tracing illicit funds through both domestic and international financial intuitions. The IRS is proud to partner with the FBI and Department of Commerce and share its world-renowned financial investigative expertise in this investigation.” \\xa0 “Today’s arrests demonstrate the Office of Export Enforcement’s strong commitment to enforcing our nation’s export control and public safety laws,” said Special Agent in Charge Weir. \\xa0“We will continue to work with our law enforcement partners to identify, deter, and keep the most sensitive U.S. origin goods and technology out of the most dangerous hands.” \\xa0 Shih, an electrical engineer who is a part-time Los Angeles resident and a naturalized U.S. citizen originally from Taiwan, and Mai who resides in Pasadena, California and is a naturalized U.S. citizen originally from Vietnam, were arrested on Jan. 19, without incident by federal agents. \\xa0 Shih and Mai, who previously worked together at two different companies, are named in a criminal complaint unsealed on Jan. 19, that charges them with conspiracy. \\xa0Shih is also charged with violating the International Emergency Economic Powers Act (IEEPA), a federal law that makes illegal, among other things, certain unauthorized exports. \\xa0 The complaint alleges that Shih and Mai conspired to illegally provide Shih with unauthorized access to a protected computer of a U.S. company that manufactured specialized, high-speed computer chips known as monolithic microwave integrated circuits (MMICs). \\xa0The conspiracy count also alleges that the two men engaged in mail fraud, wire fraud and international money laundering to further the scheme. \\xa0\\xa0\\xa0\\xa0\\xa0\\xa0\\xa0\\xa0\\xa0\\xa0\\xa0  According to the affidavit in support of the criminal complaint, Shih and Mai executed a scheme to defraud the U.S. company out of its proprietary, export-controlled items, including technology associated with its design services for MMICs. \\xa0As part of the scheme, Shih and Mai accessed the victim company’s computer systems via its web portal after Mai obtained that access by posing as a domestic customer seeking to obtain custom-designed MMICs that would be used solely in the United States. \\xa0Shih and Mail allegedly concealed Shih’s true intent to transfer the U.S. company’s technology and products to the People’s Republic of China. \\xa0 The victim company’s proprietary semiconductor technology has a number of commercial and military applications, and its customers include the Air Force, Navy and the Defense Advanced Research Projects Agency. \\xa0MMICs are used in electronic warfare, electronic warfare countermeasures and radar applications. \\xa0 The computer chips at the heart of this case allegedly were shipped to Chengdu GaStone Technology Company (CGTC), a Chinese company that established a MMIC manufacturing facility in Chengdu. \\xa0Shih was the president of CGTC, which in 2014 was placed on the Commerce Department’s Entity List, according to the affidavit, “due to its involvement in activities contrary to the national security and foreign policy interest of the United States – specifically, that it had been involved in the illicit procurement of commodities and technologies for unauthorized military end use in China.” \\xa0Because it was on the Entity List, a license from the Commerce Department was required to export U.S.-origin MMICs to CGTC, and there was a “presumption of denial” of a license. \\xa0 The complaint outlines a scheme in which Shih used a Los Angeles-based company he controlled – Pullman Lane Productions, LLC – to funnel funds provided by Chinese entities to finance the manufacturing of MMICs by the victim company. \\xa0The complaint affidavit alleges that Pullman Lane received financing from a Beijing-based company that was placed on the Entity List the same day as CGTC “on the basis of its involvement in activities contrary to the national security and foreign policy interests of the United States.” \\xa0 Mai acted as the middleman by using his Los Angeles company – MicroEx Engineering – to pose as a legitimate domestic customer that ordered and paid for the manufacturing of MMICs that Shih illegally exported to CGTC in China, according to the complaint. \\xa0It is the export of the MMICs that forms the basis of the IEEPA violation alleged against Shih. \\xa0The specific exported MMICs also required a license from the Commerce Department before being exported to China, and a license was never sought or obtained for this export. \\xa0\\xa0\\xa0\\xa0\\xa0\\xa0\\xa0\\xa0\\xa0\\xa0\\xa0  Shih and Mai are expected to made their first court appearances on Jan. 19, in U.S. District Court in downtown Los Angeles. \\xa0 The charges contained in the Complaint are merely accusations, and the defendants are presumed innocent unless and until proven guilty.\\xa0 If convicted, Mai faces a maximum sentence of five years in prison, and Shih faces a maximum sentence of 25 years in prison.\\xa0 The maximum statutory sentences are prescribed by Congress and are provided here for informational purposes. If convicted of any offense, the sentencing of the defendants will be determined by the court based on the advisory Sentencing Guidelines and other statutory factors. \\xa0 This case is being investigated by the FBI; the U.S. Department of Commerce, Bureau of Industry and Security, Office of Export Enforcement; and IRS Criminal Investigation. \\xa0 This case is being prosecuted by Assistant U.S. Attorneys Judith A. Heinz, Melanie Sartoris and Khaldoun Shobaki of the Central\\xa0District of California, and Trial Attorney Matthew Walczewski of the National Security Division Counterintelligence and Export Control Section. '"
      ]
     },
     "execution_count": 19,
     "metadata": {},
     "output_type": "execute_result"
    }
   ],
   "source": [
    "#There are an unsual number of outliers\n",
    "#Checking some of the outliers to make sure they don't have noise data\n",
    "#The reviewed texts are valid so we will not remove any of the outliers\n",
    "outlier_mask = word_count['word_count'] > 1000\n",
    "df_outliers = df[outlier_mask]\n",
    "df_outliers.iloc[5].contents"
   ]
  },
  {
   "cell_type": "code",
   "execution_count": 20,
   "id": "0fe14d1a",
   "metadata": {},
   "outputs": [],
   "source": [
    "#Using bag of words to check what are the most frequent words across all texts\n",
    "corpus = df['contents']\n",
    "\n",
    "# Create CountVectorizer object\n",
    "vectorizer = CountVectorizer(strip_accents='ascii', \n",
    "                             stop_words='english', \n",
    "                             lowercase=True,    \n",
    "                             min_df=3,\n",
    "                             max_df=0.75,\n",
    "                             token_pattern=r'[A-Za-z]+',\n",
    "                             max_features=5000)\n",
    "\n",
    "# Generate matrix of word vectors\n",
    "bow_matrix = vectorizer.fit_transform(corpus)"
   ]
  },
  {
   "cell_type": "code",
   "execution_count": 21,
   "id": "d645971e",
   "metadata": {},
   "outputs": [
    {
     "data": {
      "text/plain": [
       "<AxesSubplot:>"
      ]
     },
     "execution_count": 21,
     "metadata": {},
     "output_type": "execute_result"
    },
    {
     "data": {
      "image/png": "[encoded data removed]",
      "text/plain": [
       "<Figure size 1152x432 with 1 Axes>"
      ]
     },
     "metadata": {
      "needs_background": "light"
     },
     "output_type": "display_data"
    }
   ],
   "source": [
    "#Generating a DataFrame of the BoW to plot it\n",
    "bow_df = pd.DataFrame(bow_matrix.toarray())\n",
    "bow_df.columns = vectorizer.get_feature_names()\n",
    "\n",
    "#Plotting the top 20 frequent words in the raw data\n",
    "plt.figure(figsize=(16, 6))\n",
    "top_20_words = bow_df.sum().sort_values(ascending=False)[:20]\n",
    "top_20_words.plot.bar()"
   ]
  },
  {
   "cell_type": "markdown",
   "id": "0a495ca8",
   "metadata": {},
   "source": [
    "## Feature Engineering "
   ]
  },
  {
   "cell_type": "code",
   "execution_count": 22,
   "id": "95a74988",
   "metadata": {},
   "outputs": [],
   "source": [
    "#Method to preprocess text to change it lowercase, remove stop words, lemmatize include only alpha words\n",
    "def preprocess_text(text):\n",
    "    # Generate list of tokens\n",
    "    nlp = spacy.load('en_core_web_sm')\n",
    "    doc = nlp(text)\n",
    "    lemmas = [token.lemma_ for token in doc]\n",
    "    \n",
    "    #Defining stop words\n",
    "    stopwords = spacy.lang.en.stop_words.STOP_WORDS\n",
    "    \n",
    "    preproc_lemmas = [lemma.lower() for lemma in lemmas if lemma.isalpha() and lemma not in stopwords]\n",
    "    return ' '.join(preproc_lemmas)"
   ]
  },
  {
   "cell_type": "code",
   "execution_count": 23,
   "id": "7ef770c6",
   "metadata": {},
   "outputs": [],
   "source": [
    "#Generate a preproc_contents column where we apply the method we defined above\n",
    "#The code may take some hours to execute. The resulting df was saved in 'preprocessed.csv' file for future use\n",
    "#If needed to execute again uncomment these two lines of code\n",
    "df['preproc_contents'] = df['contents'].apply(preprocess_text)\n",
    "df.to_csv('preprocessed.csv')\n",
    "\n",
    "#Load this file if don't want to preprocess everything again since it may take some hours\n",
    "#df = pd.read_csv('preprocessed.csv')"
   ]
  },
  {
   "cell_type": "markdown",
   "id": "030f9d09",
   "metadata": {},
   "source": [
    "## Machine Learning models"
   ]
  },
  {
   "cell_type": "code",
   "execution_count": 24,
   "id": "e5d7b9a6",
   "metadata": {},
   "outputs": [],
   "source": [
    "# Use Gensim's NMF to get the best num of topics via coherence score\n",
    "texts = [word_tokenize(doc) for doc in df['preproc_contents']]\n",
    "\n",
    "# Create a dictionary\n",
    "# In gensim a dictionary is a mapping between words and their integer id\n",
    "dictionary = Dictionary(texts)\n",
    "\n",
    "# Filter out extremes to limit the number of features\n",
    "dictionary.filter_extremes(\n",
    "    no_below=3,\n",
    "    no_above=0.85,\n",
    "    keep_n=5000\n",
    ")\n",
    "\n",
    "# Create the bag-of-words format (list of (token_id, token_count))\n",
    "corpus = [dictionary.doc2bow(text) for text in texts]\n",
    "\n",
    "# Create a list of the topic numbers we want to try\n",
    "topic_nums = list(np.arange(5, 75 + 1, 5))\n",
    "\n",
    "# Run the nmf model and calculate the coherence score\n",
    "# for each number of topics\n",
    "coherence_scores = []\n",
    "\n",
    "for num in topic_nums:\n",
    "    nmf = Nmf(\n",
    "        corpus=corpus,\n",
    "        num_topics=num,\n",
    "        id2word=dictionary,\n",
    "        chunksize=2000,\n",
    "        passes=5,\n",
    "        kappa=.1,\n",
    "        minimum_probability=0.01,\n",
    "        w_max_iter=300,\n",
    "        w_stop_condition=0.0001,\n",
    "        h_max_iter=100,\n",
    "        h_stop_condition=0.001,\n",
    "        eval_every=10,\n",
    "        normalize=True,\n",
    "        random_state=42\n",
    "    )\n",
    "    \n",
    "    # Run the coherence model to get the score\n",
    "    cm = CoherenceModel(\n",
    "        model=nmf,\n",
    "        texts=texts,\n",
    "        dictionary=dictionary,\n",
    "        coherence='c_v'\n",
    "    )\n",
    "    \n",
    "    coherence_scores.append(round(cm.get_coherence(), 5))\n",
    "\n",
    "# Get the number of topics with the highest coherence score\n",
    "scores = list(zip(topic_nums, coherence_scores))"
   ]
  },
  {
   "cell_type": "code",
   "execution_count": 25,
   "id": "68359b46",
   "metadata": {},
   "outputs": [
    {
     "data": {
      "text/plain": [
       "<AxesSubplot:xlabel='number of topics', ylabel='coherence score'>"
      ]
     },
     "execution_count": 25,
     "metadata": {},
     "output_type": "execute_result"
    },
    {
     "data": {
      "image/png": "[encoded data removed]",
      "text/plain": [
       "<Figure size 1152x432 with 1 Axes>"
      ]
     },
     "metadata": {
      "needs_background": "light"
     },
     "output_type": "display_data"
    }
   ],
   "source": [
    "plt.figure(figsize=(16, 6))\n",
    "coherence_results = pd.DataFrame()\n",
    "coherence_results['number of topics'] = [x[0] for x in scores]\n",
    "coherence_results['coherence score'] = [x[1] for x in scores]\n",
    "\n",
    "sns.lineplot(data=coherence_results,x='number of topics',y='coherence score')"
   ]
  },
  {
   "cell_type": "markdown",
   "id": "31429212",
   "metadata": {},
   "source": [
    "Based on the coherence score from the gensim NMF model, we determine that the best number of topics is 15"
   ]
  },
  {
   "cell_type": "code",
   "execution_count": 26,
   "id": "1e10f548",
   "metadata": {},
   "outputs": [],
   "source": [
    "#Now that we have found the number of topics, we will generate a tf-idf matrix to feed a sklearn NMF model\n",
    "tfidf_vectorizer = TfidfVectorizer(\n",
    "    min_df=3,\n",
    "    max_df=0.85,    \n",
    "    ngram_range=(1, 2),\n",
    "    max_features=5000\n",
    ")\n",
    "tfidf = tfidf_vectorizer.fit_transform(df['preproc_contents'])"
   ]
  },
  {
   "cell_type": "code",
   "execution_count": 27,
   "id": "a75fcfb7",
   "metadata": {},
   "outputs": [
    {
     "name": "stdout",
     "output_type": "stream",
     "text": [
      "A: Documents by words matrix ((13087, 5000))\n",
      "W: Documents by topics matrix ((13087, 15))\n",
      "A: Topics by words matrix ((15, 5000))\n",
      "Mathematical representation of the matrices: A = WxH\n"
     ]
    }
   ],
   "source": [
    "#Generating NMF from sklearn\n",
    "nmf = NMF(n_components=15,init='nndsvd')\n",
    "A = tfidf \n",
    "print('A: Documents by words matrix ({})'.format(A.shape))\n",
    "W = nmf.fit_transform(tfidf)\n",
    "print('W: Documents by topics matrix ({})'.format(W.shape))\n",
    "H = nmf.components_\n",
    "print('A: Topics by words matrix ({})'.format(H.shape))\n",
    "\n",
    "print('Mathematical representation of the matrices: A = WxH')"
   ]
  },
  {
   "cell_type": "code",
   "execution_count": 28,
   "id": "ef4dfb7e",
   "metadata": {},
   "outputs": [
    {
     "data": {
      "text/html": [
       "<div>\n",
       "<style scoped>\n",
       "    .dataframe tbody tr th:only-of-type {\n",
       "        vertical-align: middle;\n",
       "    }\n",
       "\n",
       "    .dataframe tbody tr th {\n",
       "        vertical-align: top;\n",
       "    }\n",
       "\n",
       "    .dataframe thead th {\n",
       "        text-align: right;\n",
       "    }\n",
       "</style>\n",
       "<table border=\"1\" class=\"dataframe\">\n",
       "  <thead>\n",
       "    <tr style=\"text-align: right;\">\n",
       "      <th></th>\n",
       "      <th>aaron</th>\n",
       "      <th>abbate</th>\n",
       "      <th>abbott</th>\n",
       "      <th>abet</th>\n",
       "      <th>abide</th>\n",
       "      <th>ability</th>\n",
       "      <th>able</th>\n",
       "      <th>abroad</th>\n",
       "      <th>abt</th>\n",
       "      <th>abu</th>\n",
       "      <th>...</th>\n",
       "      <th>york</th>\n",
       "      <th>york assistant</th>\n",
       "      <th>york city</th>\n",
       "      <th>york field</th>\n",
       "      <th>york state</th>\n",
       "      <th>young</th>\n",
       "      <th>youth</th>\n",
       "      <th>zazi</th>\n",
       "      <th>zone</th>\n",
       "      <th>zuckerman</th>\n",
       "    </tr>\n",
       "  </thead>\n",
       "  <tbody>\n",
       "    <tr>\n",
       "      <th>0</th>\n",
       "      <td>0.012784</td>\n",
       "      <td>0.022610</td>\n",
       "      <td>0.000000</td>\n",
       "      <td>0.021042</td>\n",
       "      <td>0.016191</td>\n",
       "      <td>0.011779</td>\n",
       "      <td>0.023153</td>\n",
       "      <td>0.034699</td>\n",
       "      <td>0.0</td>\n",
       "      <td>0.000000</td>\n",
       "      <td>...</td>\n",
       "      <td>0.190961</td>\n",
       "      <td>0.009356</td>\n",
       "      <td>0.007336</td>\n",
       "      <td>0.042107</td>\n",
       "      <td>0.009528</td>\n",
       "      <td>0.029496</td>\n",
       "      <td>0.000000</td>\n",
       "      <td>0.0</td>\n",
       "      <td>0.006083</td>\n",
       "      <td>0.000000</td>\n",
       "    </tr>\n",
       "    <tr>\n",
       "      <th>1</th>\n",
       "      <td>0.000462</td>\n",
       "      <td>0.000000</td>\n",
       "      <td>0.000000</td>\n",
       "      <td>0.005473</td>\n",
       "      <td>0.002266</td>\n",
       "      <td>0.007828</td>\n",
       "      <td>0.002698</td>\n",
       "      <td>0.000000</td>\n",
       "      <td>0.0</td>\n",
       "      <td>0.000000</td>\n",
       "      <td>...</td>\n",
       "      <td>0.038572</td>\n",
       "      <td>0.000000</td>\n",
       "      <td>0.000840</td>\n",
       "      <td>0.000743</td>\n",
       "      <td>0.001472</td>\n",
       "      <td>0.001681</td>\n",
       "      <td>0.000000</td>\n",
       "      <td>0.0</td>\n",
       "      <td>0.000000</td>\n",
       "      <td>0.112762</td>\n",
       "    </tr>\n",
       "    <tr>\n",
       "      <th>2</th>\n",
       "      <td>0.000000</td>\n",
       "      <td>0.016215</td>\n",
       "      <td>0.008087</td>\n",
       "      <td>0.000274</td>\n",
       "      <td>0.000000</td>\n",
       "      <td>0.000168</td>\n",
       "      <td>0.002154</td>\n",
       "      <td>0.000000</td>\n",
       "      <td>0.0</td>\n",
       "      <td>0.000000</td>\n",
       "      <td>...</td>\n",
       "      <td>0.035889</td>\n",
       "      <td>0.005174</td>\n",
       "      <td>0.000000</td>\n",
       "      <td>0.006455</td>\n",
       "      <td>0.007578</td>\n",
       "      <td>0.013369</td>\n",
       "      <td>0.000000</td>\n",
       "      <td>0.0</td>\n",
       "      <td>0.000000</td>\n",
       "      <td>0.000000</td>\n",
       "    </tr>\n",
       "    <tr>\n",
       "      <th>3</th>\n",
       "      <td>0.000476</td>\n",
       "      <td>0.000270</td>\n",
       "      <td>0.000000</td>\n",
       "      <td>0.000000</td>\n",
       "      <td>0.000451</td>\n",
       "      <td>0.016738</td>\n",
       "      <td>0.008797</td>\n",
       "      <td>0.000000</td>\n",
       "      <td>0.0</td>\n",
       "      <td>0.001993</td>\n",
       "      <td>...</td>\n",
       "      <td>0.007346</td>\n",
       "      <td>0.000000</td>\n",
       "      <td>0.000403</td>\n",
       "      <td>0.000000</td>\n",
       "      <td>0.000000</td>\n",
       "      <td>0.000000</td>\n",
       "      <td>0.000000</td>\n",
       "      <td>0.0</td>\n",
       "      <td>0.054379</td>\n",
       "      <td>0.000000</td>\n",
       "    </tr>\n",
       "    <tr>\n",
       "      <th>4</th>\n",
       "      <td>0.000979</td>\n",
       "      <td>0.001389</td>\n",
       "      <td>0.000212</td>\n",
       "      <td>0.000000</td>\n",
       "      <td>0.000000</td>\n",
       "      <td>0.000000</td>\n",
       "      <td>0.006229</td>\n",
       "      <td>0.007020</td>\n",
       "      <td>0.0</td>\n",
       "      <td>0.000000</td>\n",
       "      <td>...</td>\n",
       "      <td>0.010546</td>\n",
       "      <td>0.000000</td>\n",
       "      <td>0.000074</td>\n",
       "      <td>0.000000</td>\n",
       "      <td>0.001362</td>\n",
       "      <td>0.080338</td>\n",
       "      <td>0.006411</td>\n",
       "      <td>0.0</td>\n",
       "      <td>0.000000</td>\n",
       "      <td>0.000000</td>\n",
       "    </tr>\n",
       "  </tbody>\n",
       "</table>\n",
       "<p>5 rows × 5000 columns</p>\n",
       "</div>"
      ],
      "text/plain": [
       "      aaron    abbate    abbott      abet     abide   ability      able  \\\n",
       "0  0.012784  0.022610  0.000000  0.021042  0.016191  0.011779  0.023153   \n",
       "1  0.000462  0.000000  0.000000  0.005473  0.002266  0.007828  0.002698   \n",
       "2  0.000000  0.016215  0.008087  0.000274  0.000000  0.000168  0.002154   \n",
       "3  0.000476  0.000270  0.000000  0.000000  0.000451  0.016738  0.008797   \n",
       "4  0.000979  0.001389  0.000212  0.000000  0.000000  0.000000  0.006229   \n",
       "\n",
       "     abroad  abt       abu  ...      york  york assistant  york city  \\\n",
       "0  0.034699  0.0  0.000000  ...  0.190961        0.009356   0.007336   \n",
       "1  0.000000  0.0  0.000000  ...  0.038572        0.000000   0.000840   \n",
       "2  0.000000  0.0  0.000000  ...  0.035889        0.005174   0.000000   \n",
       "3  0.000000  0.0  0.001993  ...  0.007346        0.000000   0.000403   \n",
       "4  0.007020  0.0  0.000000  ...  0.010546        0.000000   0.000074   \n",
       "\n",
       "   york field  york state     young     youth  zazi      zone  zuckerman  \n",
       "0    0.042107    0.009528  0.029496  0.000000   0.0  0.006083   0.000000  \n",
       "1    0.000743    0.001472  0.001681  0.000000   0.0  0.000000   0.112762  \n",
       "2    0.006455    0.007578  0.013369  0.000000   0.0  0.000000   0.000000  \n",
       "3    0.000000    0.000000  0.000000  0.000000   0.0  0.054379   0.000000  \n",
       "4    0.000000    0.001362  0.080338  0.006411   0.0  0.000000   0.000000  \n",
       "\n",
       "[5 rows x 5000 columns]"
      ]
     },
     "execution_count": 28,
     "metadata": {},
     "output_type": "execute_result"
    }
   ],
   "source": [
    "#Create a DataFrame that maps the 15 topics (rows) and the importance of the words (columns)\n",
    "topics_by_words = pd.DataFrame(H,columns=tfidf_vectorizer.get_feature_names())\n",
    "topics_by_words.head()"
   ]
  },
  {
   "cell_type": "code",
   "execution_count": 46,
   "id": "31035537",
   "metadata": {},
   "outputs": [
    {
     "data": {
      "text/plain": [
       "0     fraud,criminal,criminal division,company,scheme,bank,money,district                           \n",
       "1     tax,irs,tax return,tax division,return,income,refund,false                                    \n",
       "2     medicare,health,fraud,care,hhs,health care,home health,oig                                    \n",
       "3     housing,fair housing,fair,discrimination,housing act,hud,housing discrimination,disability    \n",
       "4     child,child pornography,pornography,safe childhood,childhood,project safe,exploitation,project\n",
       "5     health,care,false claims,claims act,claims,settlement,health care,false                       \n",
       "6     tax,return,prepare,injunction,tax return,preparer,customer,complaint                          \n",
       "7     antitrust,antitrust division,bid,price,auction,fine,foreclosure auction,conspiracy            \n",
       "8     employment,discrimination,osc,ina,immigration,worker,citizenship,employer                     \n",
       "9     epa,environmental,water,air,clean,settlement,emission,pollution                               \n",
       "10    officer,civil,right,civil rights,rights,rights division,assault,inmate                        \n",
       "11    community,law,law enforcement,enforcement,tribal,crime,violence,attorney general              \n",
       "12    gang,member,murder,drug,texas,racketeering,aka,abt                                            \n",
       "13    terrorist,isil,national security,york,material support,new york,security,support              \n",
       "14    ada,disability,voting,agreement,access,rights,county,election                                 \n",
       "dtype: object"
      ]
     },
     "execution_count": 46,
     "metadata": {},
     "output_type": "execute_result"
    }
   ],
   "source": [
    "#Define a method to get the top words in a provided topic\n",
    "def get_top_words_in_topic(topic,n=8):\n",
    "    return ','.join(topic.sort_values(ascending=False)[:n].index)\n",
    "\n",
    "#Get the list of topics and the top words in each topic based on the method defined above\n",
    "top_words_by_topic = topics_by_words.apply(get_top_words_in_topic,axis=1)\n",
    "top_words_by_topic"
   ]
  },
  {
   "cell_type": "code",
   "execution_count": 30,
   "id": "89fe826f",
   "metadata": {},
   "outputs": [
    {
     "data": {
      "text/html": [
       "<div>\n",
       "<style scoped>\n",
       "    .dataframe tbody tr th:only-of-type {\n",
       "        vertical-align: middle;\n",
       "    }\n",
       "\n",
       "    .dataframe tbody tr th {\n",
       "        vertical-align: top;\n",
       "    }\n",
       "\n",
       "    .dataframe thead th {\n",
       "        text-align: right;\n",
       "    }\n",
       "</style>\n",
       "<table border=\"1\" class=\"dataframe\">\n",
       "  <thead>\n",
       "    <tr style=\"text-align: right;\">\n",
       "      <th></th>\n",
       "      <th>title</th>\n",
       "      <th>contents</th>\n",
       "      <th>preproc_contents</th>\n",
       "      <th>topic_id</th>\n",
       "      <th>topic_top_words</th>\n",
       "    </tr>\n",
       "  </thead>\n",
       "  <tbody>\n",
       "    <tr>\n",
       "      <th>0</th>\n",
       "      <td>Convicted Bomb Plotter Sentenced to 30 Years</td>\n",
       "      <td>PORTLAND, Oregon. – Mohamed Osman Mohamud, 23,...</td>\n",
       "      <td>portland oregon mohamed osman mohamud convict ...</td>\n",
       "      <td>13</td>\n",
       "      <td>terrorist,isil,national security,york,material...</td>\n",
       "    </tr>\n",
       "    <tr>\n",
       "      <th>1</th>\n",
       "      <td>$1 Million in Restitution Payments Announced t...</td>\n",
       "      <td>WASHINGTON – North Carolina’s Waccamaw River...</td>\n",
       "      <td>washington north carolina waccamaw river water...</td>\n",
       "      <td>9</td>\n",
       "      <td>epa,environmental,water,air,clean,settlement,e...</td>\n",
       "    </tr>\n",
       "    <tr>\n",
       "      <th>2</th>\n",
       "      <td>$1 Million Settlement Reached for Natural Reso...</td>\n",
       "      <td>BOSTON– A $1-million settlement has been...</td>\n",
       "      <td>boston settlement reach natural resource damag...</td>\n",
       "      <td>9</td>\n",
       "      <td>epa,environmental,water,air,clean,settlement,e...</td>\n",
       "    </tr>\n",
       "    <tr>\n",
       "      <th>3</th>\n",
       "      <td>10 Las Vegas Men Indicted \\r\\nfor Falsifying V...</td>\n",
       "      <td>WASHINGTON—A federal grand jury in Las Vegas...</td>\n",
       "      <td>washington federal grand jury las vegas today ...</td>\n",
       "      <td>9</td>\n",
       "      <td>epa,environmental,water,air,clean,settlement,e...</td>\n",
       "    </tr>\n",
       "    <tr>\n",
       "      <th>4</th>\n",
       "      <td>$100 Million Settlement Will Speed Cleanup Wor...</td>\n",
       "      <td>The U.S. Department of Justice, the U.S. Envir...</td>\n",
       "      <td>department justice environmental protection ag...</td>\n",
       "      <td>9</td>\n",
       "      <td>epa,environmental,water,air,clean,settlement,e...</td>\n",
       "    </tr>\n",
       "  </tbody>\n",
       "</table>\n",
       "</div>"
      ],
      "text/plain": [
       "                                               title  \\\n",
       "0       Convicted Bomb Plotter Sentenced to 30 Years   \n",
       "1  $1 Million in Restitution Payments Announced t...   \n",
       "2  $1 Million Settlement Reached for Natural Reso...   \n",
       "3  10 Las Vegas Men Indicted \\r\\nfor Falsifying V...   \n",
       "4  $100 Million Settlement Will Speed Cleanup Wor...   \n",
       "\n",
       "                                            contents  \\\n",
       "0  PORTLAND, Oregon. – Mohamed Osman Mohamud, 23,...   \n",
       "1    WASHINGTON – North Carolina’s Waccamaw River...   \n",
       "2        BOSTON– A $1-million settlement has been...   \n",
       "3    WASHINGTON—A federal grand jury in Las Vegas...   \n",
       "4  The U.S. Department of Justice, the U.S. Envir...   \n",
       "\n",
       "                                    preproc_contents  topic_id  \\\n",
       "0  portland oregon mohamed osman mohamud convict ...        13   \n",
       "1  washington north carolina waccamaw river water...         9   \n",
       "2  boston settlement reach natural resource damag...         9   \n",
       "3  washington federal grand jury las vegas today ...         9   \n",
       "4  department justice environmental protection ag...         9   \n",
       "\n",
       "                                     topic_top_words  \n",
       "0  terrorist,isil,national security,york,material...  \n",
       "1  epa,environmental,water,air,clean,settlement,e...  \n",
       "2  epa,environmental,water,air,clean,settlement,e...  \n",
       "3  epa,environmental,water,air,clean,settlement,e...  \n",
       "4  epa,environmental,water,air,clean,settlement,e...  "
      ]
     },
     "execution_count": 30,
     "metadata": {},
     "output_type": "execute_result"
    }
   ],
   "source": [
    "#Mapping topic ids and their top words into the original DataFrame\n",
    "df['topic_id'] = np.argmax(W,axis=1)\n",
    "df['topic_top_words'] = top_words_by_topic[df['topic_id']].values\n",
    "df.head()"
   ]
  },
  {
   "cell_type": "markdown",
   "id": "7b293241",
   "metadata": {},
   "source": [
    "## Results\n",
    "The topic ID assigned and the top words of this topic ID along with the original texts can be seen below. The parameter id_to_inspect can be changed to manually check the coherence of the results."
   ]
  },
  {
   "cell_type": "code",
   "execution_count": 31,
   "id": "64a847bc",
   "metadata": {},
   "outputs": [
    {
     "name": "stdout",
     "output_type": "stream",
     "text": [
      "**************************************************************\n",
      "Topic ID assigned: 1\n",
      "Topic top words: tax,irs,tax return,tax division,return,income,refund,false\n",
      "**************************************************************\n",
      "ORIGINAL TITLE:\n",
      "Pennsylvania Tax Defier Sentenced to More Than Six Years in Prison\n",
      "**************************************************************\n",
      "ORIGINAL TEXT:\n",
      "    Troy A. Beam of Shippensburg, Pa., was sentenced today to 74 months in prison by U.S. District Judge Christopher C. Conner, the Justice Department and the Internal Revenue Service (IRS) announced.  On May 4, 2011, a federal jury in the Middle District of Pennsylvania convicted Beam of tax evasion, obstructing and impeding the due administration of the Internal Revenue laws, and willful failure to file federal income tax returns.       According to evidence introduced at trial, Beam, a former certified public accountant and state auditor in the Pennsylvania Auditor General’s Office, earned substantial sums of income from 1992 to the date of the indictment while operating a home construction business known as “Sunbeam Builders,” as well as owning and operating two real estate businesses known as “Latrobe Leasing” and “Goldstar Property Management” that purchased, rented and sold real estate.  Despite earning substantial income from these businesses, as well as other activities, Beam failed to file any federal income tax returns since April 1996, when he filed his 1995 tax return reporting a loss.  In April 1996, Beam also filed false amended federal income tax returns for 1992, 1993 and 1994, seeking tax refunds for taxes he previously had paid for those years.          The evidence at trial proved that from 1999 to 2007, Beam earned more than $10.3 million in gross income from his various home construction and rental property businesses.  Beam obstructed the IRS in its attempt to calculate and collect his taxes by using numerous sham trusts and other entities, including North Star Investment Holdings Ltd. to hide his income and assets.  He used North Star to set up a bank account in the Cayman Islands into which he deposited nearly $3 million of income derived from his construction business.       “Convictions such as this send a loud and clear message that those who defy our nation's tax laws will be investigated and prosecuted to the fullest extent of the law,” said Kathryn M. Keneally, Assistant Attorney General of the Justice Department's Tax Division.      “The evidence showed beyond a reasonable doubt that Troy Beam is a consummate fraud and hypocrite who evaded his responsibilities as a citizen while participating in a charade to deceive the government, other citizens and himself for his own selfish ends,” said Peter J. Smith, U.S. Attorney for the Middle District of Pennsylvania.        “The use of abusive trust schemes and sham entities intended to conceal income from the IRS isn't tax planning; it’s criminal activity,” said Rick A. Raven, Acting Chief, IRS Criminal Investigation. “As the tax filing season comes to a close, it’s more important than ever that the American people feel confident that everyone is paying the taxes they owe.”     This case was investigated by IRS-Criminal Investigation and was prosecuted by Assistant U.S.s Attorney Bruce Brandler and Trial Attorneys Jorge Almonte and Mark McDonald of the Tax Division.  \n"
     ]
    }
   ],
   "source": [
    "id_to_inspect = 10000\n",
    "content_to_inspect = df.iloc[id_to_inspect]\n",
    "\n",
    "print('**************************************************************')\n",
    "print('Topic ID assigned: {}'.format(content_to_inspect[3]))\n",
    "print('Topic top words: {}'.format(content_to_inspect[4]))\n",
    "print('**************************************************************')\n",
    "print('ORIGINAL TITLE:\\n{}'.format(content_to_inspect[0]))\n",
    "print('**************************************************************')\n",
    "print('ORIGINAL TEXT:\\n{}'.format(content_to_inspect[1]))"
   ]
  },
  {
   "cell_type": "code",
   "execution_count": 47,
   "id": "a3a0e1b8",
   "metadata": {},
   "outputs": [
    {
     "data": {
      "text/plain": [
       "0     fraud,criminal,criminal division,company,scheme,bank,money,district                           \n",
       "1     tax,irs,tax return,tax division,return,income,refund,false                                    \n",
       "2     medicare,health,fraud,care,hhs,health care,home health,oig                                    \n",
       "3     housing,fair housing,fair,discrimination,housing act,hud,housing discrimination,disability    \n",
       "4     child,child pornography,pornography,safe childhood,childhood,project safe,exploitation,project\n",
       "5     health,care,false claims,claims act,claims,settlement,health care,false                       \n",
       "6     tax,return,prepare,injunction,tax return,preparer,customer,complaint                          \n",
       "7     antitrust,antitrust division,bid,price,auction,fine,foreclosure auction,conspiracy            \n",
       "8     employment,discrimination,osc,ina,immigration,worker,citizenship,employer                     \n",
       "9     epa,environmental,water,air,clean,settlement,emission,pollution                               \n",
       "10    officer,civil,right,civil rights,rights,rights division,assault,inmate                        \n",
       "11    community,law,law enforcement,enforcement,tribal,crime,violence,attorney general              \n",
       "12    gang,member,murder,drug,texas,racketeering,aka,abt                                            \n",
       "13    terrorist,isil,national security,york,material support,new york,security,support              \n",
       "14    ada,disability,voting,agreement,access,rights,county,election                                 \n",
       "dtype: object"
      ]
     },
     "execution_count": 47,
     "metadata": {},
     "output_type": "execute_result"
    },
    {
     "data": {
      "image/png": "[encoded data removed]",
      "text/plain": [
       "<Figure size 1152x432 with 1 Axes>"
      ]
     },
     "metadata": {
      "needs_background": "light"
     },
     "output_type": "display_data"
    }
   ],
   "source": [
    "#Plotting the distribution of the topics next to the top words of each topic\n",
    "plt.figure(figsize=(16, 6))\n",
    "sns.histplot(data=df,x='topic_id',bins=15)\n",
    "top_words_by_topic"
   ]
  },
  {
   "cell_type": "markdown",
   "id": "33a5ae29",
   "metadata": {},
   "source": [
    "## Conclusion\n",
    "We can extract insights based on the top words of each topic. Based on it we can say that the most frequent topics in the department of justice are related to fraud, taxes, community issues and civil rights.<br>\n",
    "I think the results make sense because:\n",
    "1. The top words of each topic are closely related\n",
    "2. Each topic has terminology that describes a kind of offense\n",
    "3. All topics are mostly unique(except two of them which are related to taxes)\n",
    "\n",
    "Next steps might be to have an expert in the law field to provide a more accurate list of stop words, but overall I think the model is pretty accurate."
   ]
  },
  {
   "cell_type": "code",
   "execution_count": 49,
   "id": "289f9a71",
   "metadata": {},
   "outputs": [],
   "source": [
    "#This library and methods to be used to save and restore the status of the kernel in a file\n",
    "#import dill\n",
    "#dill.load_session('notebook_env.db')\n",
    "#dill.dump_session('notebook_env.db')"
   ]
  },
  {
   "cell_type": "code",
   "execution_count": null,
   "id": "a7d1d1df",
   "metadata": {},
   "outputs": [],
   "source": []
  }
 ],
 "metadata": {
  "kernelspec": {
   "display_name": "Python 3 (ipykernel)",
   "language": "python",
   "name": "python3"
  },
  "language_info": {
   "codemirror_mode": {
    "name": "ipython",
    "version": 3
   },
   "file_extension": ".py",
   "mimetype": "text/x-python",
   "name": "python",
   "nbconvert_exporter": "python",
   "pygments_lexer": "ipython3",
   "version": "3.8.10"
  }
 },
 "nbformat": 4,
 "nbformat_minor": 5
}
